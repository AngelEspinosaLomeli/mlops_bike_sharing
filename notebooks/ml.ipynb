{
 "cells": [
  {
   "cell_type": "markdown",
   "id": "30bd0c66",
   "metadata": {},
   "source": [
    "# Librerías:"
   ]
  },
  {
   "cell_type": "code",
   "execution_count": 4,
   "id": "8da0d576",
   "metadata": {},
   "outputs": [],
   "source": [
    "import pandas as pd\n",
    "import numpy as np\n",
    "\n",
    "import matplotlib.pyplot as plt\n",
    "import seaborn as sns\n",
    "\n",
    "import holidays\n",
    "import calendar\n",
    "\n",
    "from sklearn.impute import KNNImputer\n",
    "from sklearn.preprocessing import StandardScaler\n",
    "from sklearn.model_selection import train_test_split\n",
    "from sklearn.ensemble import RandomForestRegressor\n",
    "from sklearn.metrics import mean_squared_error, r2_score, mean_absolute_error"
   ]
  },
  {
   "cell_type": "markdown",
   "id": "2ef78de5",
   "metadata": {},
   "source": [
    "# Lectura de datos:\n",
    "Se carga el dataset original y modificado para comparar los datos."
   ]
  },
  {
   "cell_type": "code",
   "execution_count": 8,
   "id": "18c5280e",
   "metadata": {},
   "outputs": [],
   "source": [
    "original_bike_sharing_df = pd.read_csv('../data/bike_sharing_original.csv')\n",
    "bike_sharing_df = pd.read_csv('../data/bike_sharing_modified.csv')"
   ]
  },
  {
   "cell_type": "code",
   "execution_count": 9,
   "id": "43decb09",
   "metadata": {},
   "outputs": [
    {
     "name": "stdout",
     "output_type": "stream",
     "text": [
      "Registros objetivo a eliminar 347\n",
      "Columnas objetivo a eliminar 1\n"
     ]
    }
   ],
   "source": [
    "target_rows_to_drop = bike_sharing_df.shape[0] - original_bike_sharing_df.shape[0]\n",
    "target_cols_to_drop = bike_sharing_df.shape[1] - original_bike_sharing_df.shape[1]\n",
    "\n",
    "print(f'Registros objetivo a eliminar {target_rows_to_drop}')\n",
    "print(f'Columnas objetivo a eliminar {target_cols_to_drop}')"
   ]
  }
 ],
 "metadata": {
  "kernelspec": {
   "display_name": "mlops-env",
   "language": "python",
   "name": "python3"
  },
  "language_info": {
   "codemirror_mode": {
    "name": "ipython",
    "version": 3
   },
   "file_extension": ".py",
   "mimetype": "text/x-python",
   "name": "python",
   "nbconvert_exporter": "python",
   "pygments_lexer": "ipython3",
   "version": "3.12.7"
  }
 },
 "nbformat": 4,
 "nbformat_minor": 5
}
